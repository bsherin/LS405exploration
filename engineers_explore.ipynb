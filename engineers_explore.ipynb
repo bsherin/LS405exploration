{
  "cells": [
    {
      "cell_type": "code",
      "execution_count": null,
      "metadata": {
        "id": "qfRVWal5dkyg"
      },
      "outputs": [],
      "source": [
        "import pandas as pd\n",
        "import nltk"
      ]
    },
    {
      "cell_type": "code",
      "source": [
        "!git clone https://github.com/bsherin/LS405exploration\n",
        "import sys\n",
        "sys.path.append('.')\n",
        "%cd LS405exploration"
      ],
      "metadata": {
        "id": "nrRfLWe9dlwM"
      },
      "execution_count": null,
      "outputs": []
    },
    {
      "cell_type": "code",
      "execution_count": null,
      "metadata": {
        "id": "RUrqbx91dkyh"
      },
      "outputs": [],
      "source": [
        "# file_id_not_segmemnted = \"1U6gEcfgPX6ULsRTBcxfmFciRdgkRYYIY-\"\n",
        "# url = f'https://drive.google.com/uc?id={file_id_not_segmemnted}'\n",
        "url = \"corpora/engineer_df.parquet\"\n",
        "corpus_df = pd.read_parquet(url)\n",
        "corpus_df.rename(columns={\"text\": \"Document\"}, inplace=True)\n",
        "corpus_df.head()"
      ]
    },
    {
      "cell_type": "code",
      "execution_count": null,
      "metadata": {
        "id": "2u9Csknudkyh"
      },
      "outputs": [],
      "source": [
        "len(corpus_df)"
      ]
    },
    {
      "cell_type": "code",
      "execution_count": null,
      "metadata": {
        "id": "WbqVXaAjdkyh"
      },
      "outputs": [],
      "source": [
        "tlist = corpus_df[\"tokenized\"].tolist()\n",
        "fdist = nltk.FreqDist([item for sublist in tlist for item in list(sublist)])"
      ]
    },
    {
      "cell_type": "code",
      "execution_count": null,
      "metadata": {
        "id": "IQR54-8gdkyh"
      },
      "outputs": [],
      "source": [
        "fdist.most_common()"
      ]
    },
    {
      "cell_type": "code",
      "execution_count": null,
      "metadata": {
        "id": "l8T5dyTOdkyh"
      },
      "outputs": [],
      "source": [
        "stop_list_source = \"lists/engineer_stop_list.txt\"\n",
        "for word in open(stop_list_source, \"r\").read().split():\n",
        "    del fdist[word]"
      ]
    },
    {
      "cell_type": "code",
      "execution_count": null,
      "metadata": {
        "id": "GATC8ccDdkyh"
      },
      "outputs": [],
      "source": [
        "fdist.most_common()"
      ]
    },
    {
      "cell_type": "code",
      "source": [],
      "metadata": {
        "id": "kmW5jfBNdzlV"
      },
      "execution_count": null,
      "outputs": []
    }
  ],
  "metadata": {
    "kernelspec": {
      "display_name": "ls405_venv",
      "language": "python",
      "name": "python3"
    },
    "language_info": {
      "codemirror_mode": {
        "name": "ipython",
        "version": 3
      },
      "file_extension": ".py",
      "mimetype": "text/x-python",
      "name": "python",
      "nbconvert_exporter": "python",
      "pygments_lexer": "ipython3",
      "version": "3.11.3"
    },
    "colab": {
      "provenance": []
    }
  },
  "nbformat": 4,
  "nbformat_minor": 0
}